{
 "cells": [
  {
   "cell_type": "markdown",
   "id": "4e121611",
   "metadata": {},
   "source": [
    "# Using the Yelp API (Practice)\n",
    "- Martisha Owens\n",
    "- 11/16/2022"
   ]
  },
  {
   "cell_type": "markdown",
   "id": "c6eb5f72",
   "metadata": {},
   "source": [
    "## Use your API credentials to access the the Yelp api"
   ]
  },
  {
   "cell_type": "code",
   "execution_count": 1,
   "id": "a81301fd",
   "metadata": {},
   "outputs": [
    {
     "data": {
      "text/plain": [
       "dict_keys(['client-id', 'api-key'])"
      ]
     },
     "execution_count": 1,
     "metadata": {},
     "output_type": "execute_result"
    }
   ],
   "source": [
    "import json\n",
    "with open('/Users/martishaowens/.secret/yelp_api.json') as f:\n",
    "    login = json.load(f)\n",
    "login.keys()"
   ]
  },
  {
   "cell_type": "code",
   "execution_count": 2,
   "id": "b1f1f569",
   "metadata": {},
   "outputs": [
    {
     "data": {
      "text/plain": [
       "<yelpapi.yelpapi.YelpAPI at 0x1069afd60>"
      ]
     },
     "execution_count": 2,
     "metadata": {},
     "output_type": "execute_result"
    }
   ],
   "source": [
    "from yelpapi import YelpAPI\n",
    "# Create an instance with your key\n",
    "yelp_api = YelpAPI(login['api-key'], timeout_s=5.0)\n",
    "yelp_api"
   ]
  },
  {
   "cell_type": "markdown",
   "id": "1d76c66a",
   "metadata": {},
   "source": [
    "## Choose the location and search term (food)"
   ]
  },
  {
   "cell_type": "code",
   "execution_count": 5,
   "id": "fba468c5",
   "metadata": {},
   "outputs": [
    {
     "name": "stdout",
     "output_type": "stream",
     "text": [
      "<class 'dict'>\n"
     ]
    },
    {
     "data": {
      "text/plain": [
       "dict_keys(['businesses', 'total', 'region'])"
      ]
     },
     "execution_count": 5,
     "metadata": {},
     "output_type": "execute_result"
    }
   ],
   "source": [
    "search_results = yelp_api.search_query(location='Paris, France',\n",
    "                                       term='Sushi')\n",
    "print(type(search_results))\n",
    "search_results.keys()"
   ]
  },
  {
   "cell_type": "code",
   "execution_count": 6,
   "id": "0a448bf2",
   "metadata": {},
   "outputs": [
    {
     "data": {
      "text/plain": [
       "624"
      ]
     },
     "execution_count": 6,
     "metadata": {},
     "output_type": "execute_result"
    }
   ],
   "source": [
    "search_results['total']"
   ]
  },
  {
   "cell_type": "markdown",
   "id": "b286654c",
   "metadata": {},
   "source": [
    "## Obtain ONLY the first two pages of results"
   ]
  },
  {
   "cell_type": "code",
   "execution_count": 7,
   "id": "1f95b57a",
   "metadata": {},
   "outputs": [
    {
     "data": {
      "text/html": [
       "<div>\n",
       "<style scoped>\n",
       "    .dataframe tbody tr th:only-of-type {\n",
       "        vertical-align: middle;\n",
       "    }\n",
       "\n",
       "    .dataframe tbody tr th {\n",
       "        vertical-align: top;\n",
       "    }\n",
       "\n",
       "    .dataframe thead th {\n",
       "        text-align: right;\n",
       "    }\n",
       "</style>\n",
       "<table border=\"1\" class=\"dataframe\">\n",
       "  <thead>\n",
       "    <tr style=\"text-align: right;\">\n",
       "      <th></th>\n",
       "      <th>id</th>\n",
       "      <th>alias</th>\n",
       "      <th>name</th>\n",
       "      <th>image_url</th>\n",
       "      <th>is_closed</th>\n",
       "      <th>url</th>\n",
       "      <th>review_count</th>\n",
       "      <th>categories</th>\n",
       "      <th>rating</th>\n",
       "      <th>coordinates</th>\n",
       "      <th>transactions</th>\n",
       "      <th>price</th>\n",
       "      <th>location</th>\n",
       "      <th>phone</th>\n",
       "      <th>display_phone</th>\n",
       "      <th>distance</th>\n",
       "    </tr>\n",
       "  </thead>\n",
       "  <tbody>\n",
       "    <tr>\n",
       "      <th>0</th>\n",
       "      <td>PHsKPp496sFZm9K9Xz_TlA</td>\n",
       "      <td>sanukiya-paris</td>\n",
       "      <td>Sanukiya</td>\n",
       "      <td>https://s3-media2.fl.yelpcdn.com/bphoto/va06K7...</td>\n",
       "      <td>False</td>\n",
       "      <td>https://www.yelp.com/biz/sanukiya-paris?adjust...</td>\n",
       "      <td>364</td>\n",
       "      <td>[{'alias': 'japanese', 'title': 'Japanese'}]</td>\n",
       "      <td>4.5</td>\n",
       "      <td>{'latitude': 48.8647, 'longitude': 2.3338199}</td>\n",
       "      <td>[]</td>\n",
       "      <td>€€</td>\n",
       "      <td>{'address1': '9 rue d'Argenteuil', 'address2':...</td>\n",
       "      <td>+33142605261</td>\n",
       "      <td>+33 1 42 60 52 61</td>\n",
       "      <td>687.128906</td>\n",
       "    </tr>\n",
       "    <tr>\n",
       "      <th>1</th>\n",
       "      <td>qNdmSOThb2nu0c99NcyEtg</td>\n",
       "      <td>takara-paris-2</td>\n",
       "      <td>Takara</td>\n",
       "      <td>https://s3-media2.fl.yelpcdn.com/bphoto/EBK8N7...</td>\n",
       "      <td>False</td>\n",
       "      <td>https://www.yelp.com/biz/takara-paris-2?adjust...</td>\n",
       "      <td>59</td>\n",
       "      <td>[{'alias': 'japanese', 'title': 'Japanese'}]</td>\n",
       "      <td>4.5</td>\n",
       "      <td>{'latitude': 48.864977, 'longitude': 2.335903}</td>\n",
       "      <td>[]</td>\n",
       "      <td>€€€€</td>\n",
       "      <td>{'address1': '14 rue Molière', 'address2': Non...</td>\n",
       "      <td>+33142960838</td>\n",
       "      <td>+33 1 42 96 08 38</td>\n",
       "      <td>566.853169</td>\n",
       "    </tr>\n",
       "  </tbody>\n",
       "</table>\n",
       "</div>"
      ],
      "text/plain": [
       "                       id           alias      name  \\\n",
       "0  PHsKPp496sFZm9K9Xz_TlA  sanukiya-paris  Sanukiya   \n",
       "1  qNdmSOThb2nu0c99NcyEtg  takara-paris-2    Takara   \n",
       "\n",
       "                                           image_url  is_closed  \\\n",
       "0  https://s3-media2.fl.yelpcdn.com/bphoto/va06K7...      False   \n",
       "1  https://s3-media2.fl.yelpcdn.com/bphoto/EBK8N7...      False   \n",
       "\n",
       "                                                 url  review_count  \\\n",
       "0  https://www.yelp.com/biz/sanukiya-paris?adjust...           364   \n",
       "1  https://www.yelp.com/biz/takara-paris-2?adjust...            59   \n",
       "\n",
       "                                     categories  rating  \\\n",
       "0  [{'alias': 'japanese', 'title': 'Japanese'}]     4.5   \n",
       "1  [{'alias': 'japanese', 'title': 'Japanese'}]     4.5   \n",
       "\n",
       "                                      coordinates transactions price  \\\n",
       "0   {'latitude': 48.8647, 'longitude': 2.3338199}           []    €€   \n",
       "1  {'latitude': 48.864977, 'longitude': 2.335903}           []  €€€€   \n",
       "\n",
       "                                            location         phone  \\\n",
       "0  {'address1': '9 rue d'Argenteuil', 'address2':...  +33142605261   \n",
       "1  {'address1': '14 rue Molière', 'address2': Non...  +33142960838   \n",
       "\n",
       "       display_phone    distance  \n",
       "0  +33 1 42 60 52 61  687.128906  \n",
       "1  +33 1 42 96 08 38  566.853169  "
      ]
     },
     "execution_count": 7,
     "metadata": {},
     "output_type": "execute_result"
    }
   ],
   "source": [
    "import pandas as pd\n",
    "biz = pd.DataFrame(search_results['businesses'])\n",
    "biz.head(2) "
   ]
  },
  {
   "cell_type": "code",
   "execution_count": 10,
   "id": "5d88f09a",
   "metadata": {},
   "outputs": [
    {
     "data": {
      "text/html": [
       "<div>\n",
       "<style scoped>\n",
       "    .dataframe tbody tr th:only-of-type {\n",
       "        vertical-align: middle;\n",
       "    }\n",
       "\n",
       "    .dataframe tbody tr th {\n",
       "        vertical-align: top;\n",
       "    }\n",
       "\n",
       "    .dataframe thead th {\n",
       "        text-align: right;\n",
       "    }\n",
       "</style>\n",
       "<table border=\"1\" class=\"dataframe\">\n",
       "  <thead>\n",
       "    <tr style=\"text-align: right;\">\n",
       "      <th></th>\n",
       "      <th>id</th>\n",
       "      <th>alias</th>\n",
       "      <th>name</th>\n",
       "      <th>image_url</th>\n",
       "      <th>is_closed</th>\n",
       "      <th>url</th>\n",
       "      <th>review_count</th>\n",
       "      <th>categories</th>\n",
       "      <th>rating</th>\n",
       "      <th>coordinates</th>\n",
       "      <th>transactions</th>\n",
       "      <th>price</th>\n",
       "      <th>location</th>\n",
       "      <th>phone</th>\n",
       "      <th>display_phone</th>\n",
       "      <th>distance</th>\n",
       "    </tr>\n",
       "  </thead>\n",
       "  <tbody>\n",
       "    <tr>\n",
       "      <th>0</th>\n",
       "      <td>W2DRU4CmZwGy6I5C1Jwe1g</td>\n",
       "      <td>sushi-b-paris</td>\n",
       "      <td>Sushi B</td>\n",
       "      <td>https://s3-media1.fl.yelpcdn.com/bphoto/7j9D9H...</td>\n",
       "      <td>False</td>\n",
       "      <td>https://www.yelp.com/biz/sushi-b-paris?adjust_...</td>\n",
       "      <td>5</td>\n",
       "      <td>[{'alias': 'sushi', 'title': 'Sushi Bars'}, {'...</td>\n",
       "      <td>5.0</td>\n",
       "      <td>{'latitude': 48.8677572025742, 'longitude': 2....</td>\n",
       "      <td>[]</td>\n",
       "      <td>€€€€</td>\n",
       "      <td>{'address1': '5 rue Rameau', 'address2': '', '...</td>\n",
       "      <td>+33140265287</td>\n",
       "      <td>+33 1 40 26 52 87</td>\n",
       "      <td>730.061841</td>\n",
       "    </tr>\n",
       "    <tr>\n",
       "      <th>1</th>\n",
       "      <td>DHeuG3ouyUYYubs966Okcw</td>\n",
       "      <td>sushi-room-paris</td>\n",
       "      <td>Sushi Room</td>\n",
       "      <td>https://s3-media1.fl.yelpcdn.com/bphoto/O0Tsc8...</td>\n",
       "      <td>False</td>\n",
       "      <td>https://www.yelp.com/biz/sushi-room-paris?adju...</td>\n",
       "      <td>8</td>\n",
       "      <td>[{'alias': 'japanese', 'title': 'Japanese'}, {...</td>\n",
       "      <td>4.0</td>\n",
       "      <td>{'latitude': 48.8608, 'longitude': 2.36783}</td>\n",
       "      <td>[]</td>\n",
       "      <td>€</td>\n",
       "      <td>{'address1': '82 rue Amelot', 'address2': '', ...</td>\n",
       "      <td>+33158308279</td>\n",
       "      <td>+33 1 58 30 82 79</td>\n",
       "      <td>1883.144498</td>\n",
       "    </tr>\n",
       "  </tbody>\n",
       "</table>\n",
       "</div>"
      ],
      "text/plain": [
       "                       id             alias        name  \\\n",
       "0  W2DRU4CmZwGy6I5C1Jwe1g     sushi-b-paris     Sushi B   \n",
       "1  DHeuG3ouyUYYubs966Okcw  sushi-room-paris  Sushi Room   \n",
       "\n",
       "                                           image_url  is_closed  \\\n",
       "0  https://s3-media1.fl.yelpcdn.com/bphoto/7j9D9H...      False   \n",
       "1  https://s3-media1.fl.yelpcdn.com/bphoto/O0Tsc8...      False   \n",
       "\n",
       "                                                 url  review_count  \\\n",
       "0  https://www.yelp.com/biz/sushi-b-paris?adjust_...             5   \n",
       "1  https://www.yelp.com/biz/sushi-room-paris?adju...             8   \n",
       "\n",
       "                                          categories  rating  \\\n",
       "0  [{'alias': 'sushi', 'title': 'Sushi Bars'}, {'...     5.0   \n",
       "1  [{'alias': 'japanese', 'title': 'Japanese'}, {...     4.0   \n",
       "\n",
       "                                         coordinates transactions price  \\\n",
       "0  {'latitude': 48.8677572025742, 'longitude': 2....           []  €€€€   \n",
       "1        {'latitude': 48.8608, 'longitude': 2.36783}           []     €   \n",
       "\n",
       "                                            location         phone  \\\n",
       "0  {'address1': '5 rue Rameau', 'address2': '', '...  +33140265287   \n",
       "1  {'address1': '82 rue Amelot', 'address2': '', ...  +33158308279   \n",
       "\n",
       "       display_phone     distance  \n",
       "0  +33 1 40 26 52 87   730.061841  \n",
       "1  +33 1 58 30 82 79  1883.144498  "
      ]
     },
     "execution_count": 10,
     "metadata": {},
     "output_type": "execute_result"
    }
   ],
   "source": [
    "search_results = yelp_api.search_query(location='Paris, France',\n",
    "                                       term='Sushi',\n",
    "                                       offset = 20)\n",
    "biz20 = pd.DataFrame(search_results['businesses'])\n",
    "biz20.head(2)"
   ]
  },
  {
   "cell_type": "markdown",
   "id": "8a845476",
   "metadata": {},
   "source": [
    "## Concatenate the results into one data frame"
   ]
  },
  {
   "cell_type": "code",
   "execution_count": 15,
   "id": "fd7998fc",
   "metadata": {},
   "outputs": [
    {
     "data": {
      "text/html": [
       "<div>\n",
       "<style scoped>\n",
       "    .dataframe tbody tr th:only-of-type {\n",
       "        vertical-align: middle;\n",
       "    }\n",
       "\n",
       "    .dataframe tbody tr th {\n",
       "        vertical-align: top;\n",
       "    }\n",
       "\n",
       "    .dataframe thead th {\n",
       "        text-align: right;\n",
       "    }\n",
       "</style>\n",
       "<table border=\"1\" class=\"dataframe\">\n",
       "  <thead>\n",
       "    <tr style=\"text-align: right;\">\n",
       "      <th></th>\n",
       "      <th>id</th>\n",
       "      <th>alias</th>\n",
       "      <th>name</th>\n",
       "      <th>image_url</th>\n",
       "      <th>is_closed</th>\n",
       "      <th>url</th>\n",
       "      <th>review_count</th>\n",
       "      <th>categories</th>\n",
       "      <th>rating</th>\n",
       "      <th>coordinates</th>\n",
       "      <th>transactions</th>\n",
       "      <th>price</th>\n",
       "      <th>location</th>\n",
       "      <th>phone</th>\n",
       "      <th>display_phone</th>\n",
       "      <th>distance</th>\n",
       "    </tr>\n",
       "  </thead>\n",
       "  <tbody>\n",
       "    <tr>\n",
       "      <th>0</th>\n",
       "      <td>PHsKPp496sFZm9K9Xz_TlA</td>\n",
       "      <td>sanukiya-paris</td>\n",
       "      <td>Sanukiya</td>\n",
       "      <td>https://s3-media2.fl.yelpcdn.com/bphoto/va06K7...</td>\n",
       "      <td>False</td>\n",
       "      <td>https://www.yelp.com/biz/sanukiya-paris?adjust...</td>\n",
       "      <td>364</td>\n",
       "      <td>[{'alias': 'japanese', 'title': 'Japanese'}]</td>\n",
       "      <td>4.5</td>\n",
       "      <td>{'latitude': 48.8647, 'longitude': 2.3338199}</td>\n",
       "      <td>[]</td>\n",
       "      <td>€€</td>\n",
       "      <td>{'address1': '9 rue d'Argenteuil', 'address2':...</td>\n",
       "      <td>+33142605261</td>\n",
       "      <td>+33 1 42 60 52 61</td>\n",
       "      <td>687.128906</td>\n",
       "    </tr>\n",
       "    <tr>\n",
       "      <th>1</th>\n",
       "      <td>qNdmSOThb2nu0c99NcyEtg</td>\n",
       "      <td>takara-paris-2</td>\n",
       "      <td>Takara</td>\n",
       "      <td>https://s3-media2.fl.yelpcdn.com/bphoto/EBK8N7...</td>\n",
       "      <td>False</td>\n",
       "      <td>https://www.yelp.com/biz/takara-paris-2?adjust...</td>\n",
       "      <td>59</td>\n",
       "      <td>[{'alias': 'japanese', 'title': 'Japanese'}]</td>\n",
       "      <td>4.5</td>\n",
       "      <td>{'latitude': 48.864977, 'longitude': 2.335903}</td>\n",
       "      <td>[]</td>\n",
       "      <td>€€€€</td>\n",
       "      <td>{'address1': '14 rue Molière', 'address2': Non...</td>\n",
       "      <td>+33142960838</td>\n",
       "      <td>+33 1 42 96 08 38</td>\n",
       "      <td>566.853169</td>\n",
       "    </tr>\n",
       "    <tr>\n",
       "      <th>2</th>\n",
       "      <td>m7kDVQc-1_yax-KFA7pz0g</td>\n",
       "      <td>sushi-yaki-paris-4</td>\n",
       "      <td>Sushi Yaki</td>\n",
       "      <td>https://s3-media3.fl.yelpcdn.com/bphoto/jVovGw...</td>\n",
       "      <td>False</td>\n",
       "      <td>https://www.yelp.com/biz/sushi-yaki-paris-4?ad...</td>\n",
       "      <td>53</td>\n",
       "      <td>[{'alias': 'sushi', 'title': 'Sushi Bars'}, {'...</td>\n",
       "      <td>4.5</td>\n",
       "      <td>{'latitude': 48.84845, 'longitude': 2.34066}</td>\n",
       "      <td>[]</td>\n",
       "      <td>€€</td>\n",
       "      <td>{'address1': '50 rue Monsieur le Prince', 'add...</td>\n",
       "      <td>+33146330189</td>\n",
       "      <td>+33 1 46 33 01 89</td>\n",
       "      <td>1506.025859</td>\n",
       "    </tr>\n",
       "  </tbody>\n",
       "</table>\n",
       "</div>"
      ],
      "text/plain": [
       "                       id               alias        name  \\\n",
       "0  PHsKPp496sFZm9K9Xz_TlA      sanukiya-paris    Sanukiya   \n",
       "1  qNdmSOThb2nu0c99NcyEtg      takara-paris-2      Takara   \n",
       "2  m7kDVQc-1_yax-KFA7pz0g  sushi-yaki-paris-4  Sushi Yaki   \n",
       "\n",
       "                                           image_url  is_closed  \\\n",
       "0  https://s3-media2.fl.yelpcdn.com/bphoto/va06K7...      False   \n",
       "1  https://s3-media2.fl.yelpcdn.com/bphoto/EBK8N7...      False   \n",
       "2  https://s3-media3.fl.yelpcdn.com/bphoto/jVovGw...      False   \n",
       "\n",
       "                                                 url  review_count  \\\n",
       "0  https://www.yelp.com/biz/sanukiya-paris?adjust...           364   \n",
       "1  https://www.yelp.com/biz/takara-paris-2?adjust...            59   \n",
       "2  https://www.yelp.com/biz/sushi-yaki-paris-4?ad...            53   \n",
       "\n",
       "                                          categories  rating  \\\n",
       "0       [{'alias': 'japanese', 'title': 'Japanese'}]     4.5   \n",
       "1       [{'alias': 'japanese', 'title': 'Japanese'}]     4.5   \n",
       "2  [{'alias': 'sushi', 'title': 'Sushi Bars'}, {'...     4.5   \n",
       "\n",
       "                                      coordinates transactions price  \\\n",
       "0   {'latitude': 48.8647, 'longitude': 2.3338199}           []    €€   \n",
       "1  {'latitude': 48.864977, 'longitude': 2.335903}           []  €€€€   \n",
       "2    {'latitude': 48.84845, 'longitude': 2.34066}           []    €€   \n",
       "\n",
       "                                            location         phone  \\\n",
       "0  {'address1': '9 rue d'Argenteuil', 'address2':...  +33142605261   \n",
       "1  {'address1': '14 rue Molière', 'address2': Non...  +33142960838   \n",
       "2  {'address1': '50 rue Monsieur le Prince', 'add...  +33146330189   \n",
       "\n",
       "       display_phone     distance  \n",
       "0  +33 1 42 60 52 61   687.128906  \n",
       "1  +33 1 42 96 08 38   566.853169  \n",
       "2  +33 1 46 33 01 89  1506.025859  "
      ]
     },
     "metadata": {},
     "output_type": "display_data"
    },
    {
     "data": {
      "text/html": [
       "<div>\n",
       "<style scoped>\n",
       "    .dataframe tbody tr th:only-of-type {\n",
       "        vertical-align: middle;\n",
       "    }\n",
       "\n",
       "    .dataframe tbody tr th {\n",
       "        vertical-align: top;\n",
       "    }\n",
       "\n",
       "    .dataframe thead th {\n",
       "        text-align: right;\n",
       "    }\n",
       "</style>\n",
       "<table border=\"1\" class=\"dataframe\">\n",
       "  <thead>\n",
       "    <tr style=\"text-align: right;\">\n",
       "      <th></th>\n",
       "      <th>id</th>\n",
       "      <th>alias</th>\n",
       "      <th>name</th>\n",
       "      <th>image_url</th>\n",
       "      <th>is_closed</th>\n",
       "      <th>url</th>\n",
       "      <th>review_count</th>\n",
       "      <th>categories</th>\n",
       "      <th>rating</th>\n",
       "      <th>coordinates</th>\n",
       "      <th>transactions</th>\n",
       "      <th>price</th>\n",
       "      <th>location</th>\n",
       "      <th>phone</th>\n",
       "      <th>display_phone</th>\n",
       "      <th>distance</th>\n",
       "    </tr>\n",
       "  </thead>\n",
       "  <tbody>\n",
       "    <tr>\n",
       "      <th>37</th>\n",
       "      <td>kYQhkfPyfVRxBWyS1N_cEA</td>\n",
       "      <td>sushi-shop-paris-5</td>\n",
       "      <td>Sushi Shop</td>\n",
       "      <td>https://s3-media3.fl.yelpcdn.com/bphoto/AAWrkm...</td>\n",
       "      <td>False</td>\n",
       "      <td>https://www.yelp.com/biz/sushi-shop-paris-5?ad...</td>\n",
       "      <td>6</td>\n",
       "      <td>[{'alias': 'sushi', 'title': 'Sushi Bars'}, {'...</td>\n",
       "      <td>4.0</td>\n",
       "      <td>{'latitude': 48.86334, 'longitude': 2.361788}</td>\n",
       "      <td>[]</td>\n",
       "      <td>€€</td>\n",
       "      <td>{'address1': '42 rue de Bretagne', 'address2':...</td>\n",
       "      <td>+33144788485</td>\n",
       "      <td>+33 1 44 78 84 85</td>\n",
       "      <td>1444.892409</td>\n",
       "    </tr>\n",
       "    <tr>\n",
       "      <th>38</th>\n",
       "      <td>Wi5ago4NIvZWo3q37kXIJw</td>\n",
       "      <td>forum-sushi-paris-2</td>\n",
       "      <td>Forum Sushi</td>\n",
       "      <td>https://s3-media3.fl.yelpcdn.com/bphoto/75mObH...</td>\n",
       "      <td>False</td>\n",
       "      <td>https://www.yelp.com/biz/forum-sushi-paris-2?a...</td>\n",
       "      <td>18</td>\n",
       "      <td>[{'alias': 'japanese', 'title': 'Japanese'}, {...</td>\n",
       "      <td>4.0</td>\n",
       "      <td>{'latitude': 48.8623209, 'longitude': 2.3501253}</td>\n",
       "      <td>[]</td>\n",
       "      <td>€€</td>\n",
       "      <td>{'address1': '55 boulevard de Sébastopol', 'ad...</td>\n",
       "      <td>+33145088887</td>\n",
       "      <td>+33 1 45 08 88 87</td>\n",
       "      <td>584.957440</td>\n",
       "    </tr>\n",
       "    <tr>\n",
       "      <th>39</th>\n",
       "      <td>ILbQqN2kNaKjD2yJWlTDsg</td>\n",
       "      <td>chez-hanafousa-paris</td>\n",
       "      <td>Chez Hanafousa</td>\n",
       "      <td>https://s3-media3.fl.yelpcdn.com/bphoto/7VUMjZ...</td>\n",
       "      <td>False</td>\n",
       "      <td>https://www.yelp.com/biz/chez-hanafousa-paris?...</td>\n",
       "      <td>35</td>\n",
       "      <td>[{'alias': 'japanese', 'title': 'Japanese'}]</td>\n",
       "      <td>4.0</td>\n",
       "      <td>{'latitude': 48.85357, 'longitude': 2.33551}</td>\n",
       "      <td>[]</td>\n",
       "      <td>€€€</td>\n",
       "      <td>{'address1': '4 passage Petite Boucherie', 'ad...</td>\n",
       "      <td>+33143265029</td>\n",
       "      <td>+33 1 43 26 50 29</td>\n",
       "      <td>1047.116062</td>\n",
       "    </tr>\n",
       "  </tbody>\n",
       "</table>\n",
       "</div>"
      ],
      "text/plain": [
       "                        id                 alias            name  \\\n",
       "37  kYQhkfPyfVRxBWyS1N_cEA    sushi-shop-paris-5      Sushi Shop   \n",
       "38  Wi5ago4NIvZWo3q37kXIJw   forum-sushi-paris-2     Forum Sushi   \n",
       "39  ILbQqN2kNaKjD2yJWlTDsg  chez-hanafousa-paris  Chez Hanafousa   \n",
       "\n",
       "                                            image_url  is_closed  \\\n",
       "37  https://s3-media3.fl.yelpcdn.com/bphoto/AAWrkm...      False   \n",
       "38  https://s3-media3.fl.yelpcdn.com/bphoto/75mObH...      False   \n",
       "39  https://s3-media3.fl.yelpcdn.com/bphoto/7VUMjZ...      False   \n",
       "\n",
       "                                                  url  review_count  \\\n",
       "37  https://www.yelp.com/biz/sushi-shop-paris-5?ad...             6   \n",
       "38  https://www.yelp.com/biz/forum-sushi-paris-2?a...            18   \n",
       "39  https://www.yelp.com/biz/chez-hanafousa-paris?...            35   \n",
       "\n",
       "                                           categories  rating  \\\n",
       "37  [{'alias': 'sushi', 'title': 'Sushi Bars'}, {'...     4.0   \n",
       "38  [{'alias': 'japanese', 'title': 'Japanese'}, {...     4.0   \n",
       "39       [{'alias': 'japanese', 'title': 'Japanese'}]     4.0   \n",
       "\n",
       "                                         coordinates transactions price  \\\n",
       "37     {'latitude': 48.86334, 'longitude': 2.361788}           []    €€   \n",
       "38  {'latitude': 48.8623209, 'longitude': 2.3501253}           []    €€   \n",
       "39      {'latitude': 48.85357, 'longitude': 2.33551}           []   €€€   \n",
       "\n",
       "                                             location         phone  \\\n",
       "37  {'address1': '42 rue de Bretagne', 'address2':...  +33144788485   \n",
       "38  {'address1': '55 boulevard de Sébastopol', 'ad...  +33145088887   \n",
       "39  {'address1': '4 passage Petite Boucherie', 'ad...  +33143265029   \n",
       "\n",
       "        display_phone     distance  \n",
       "37  +33 1 44 78 84 85  1444.892409  \n",
       "38  +33 1 45 08 88 87   584.957440  \n",
       "39  +33 1 43 26 50 29  1047.116062  "
      ]
     },
     "metadata": {},
     "output_type": "display_data"
    }
   ],
   "source": [
    "businesses = pd.concat([biz, biz20],\n",
    "                      ignore_index=True)\n",
    "display(businesses.head(3), businesses.tail(3))"
   ]
  },
  {
   "cell_type": "markdown",
   "id": "36e03fa8",
   "metadata": {},
   "source": [
    "## Save the businesses as a records-oriented JSON file."
   ]
  },
  {
   "cell_type": "code",
   "execution_count": 16,
   "id": "b687aa91",
   "metadata": {},
   "outputs": [
    {
     "data": {
      "text/plain": [
       "'[{\"id\":\"PHsKPp496sFZm9K9Xz_TlA\",\"alias\":\"sanukiya-paris\",\"name\":\"Sanukiya\",\"image_url\":\"https:\\\\/\\\\/s3-media2.fl.yelpcdn.com\\\\/bphoto\\\\/va06K79Pd2GouTO8nIDuhA\\\\/o.jpg\",\"is_closed\":false,\"url\":\"https:\\\\/\\\\/www.yelp.com\\\\/biz\\\\/sanukiya-paris?adjust_creative=4fhtQ-nKjeOr6TAmpeXp5Q&utm_campaign=yelp_api_v3&utm_medium=api_v3_business_search&utm_source=4fhtQ-nKjeOr6TAmpeXp5Q\",\"review_count\":364,\"categories\":[{\"alias\":\"japanese\",\"title\":\"Japanese\"}],\"rating\":4.5,\"coordinates\":{\"latitude\":48.8647,\"longitude\":2.3338199},\"transactions\":[],\"price\":\"\\\\u20ac\\\\u20ac\",\"location\":{\"address1\":\"9 rue d\\'Argenteuil\",\"address2\":\"\",\"address3\":\"\",\"city\":\"Paris\",\"zip_code\":\"75001\",\"country\":\"FR\",\"state\":\"75\",\"display_address\":[\"9 rue d\\'Argenteuil\",\"75001 Paris\",\"France\"]},\"phone\":\"+33142605261\",\"display_phone\":\"+33 1 42 60 52 61\",\"distance\":687.128906434},{\"id\":\"qNdmSOThb2nu0c99NcyEtg\",\"alias\":\"takara-paris-2\",\"name\":\"Takara\",\"image_url\":\"https:\\\\/\\\\/s3-media2.fl.yelpcdn.com\\\\/bphoto\\\\/EBK8N7uy5oODsFDGTpedfA\\\\/o.jpg\",\"is_closed\":false,\"url\":\"https:\\\\/\\\\/www.yelp.com\\\\/biz\\\\/takara-paris-2?adjust_creative=4fhtQ-nKjeOr6TAmpeXp5Q&utm_campaign=yelp_api_v3&utm_medium=api_v3_business_search&utm_source=4fhtQ-nKjeOr6TAmpeXp5Q\",\"review_count\":59,\"categories\":[{\"alias\":\"japanese\",\"title\":\"Japanese\"}],\"rating\":4.5,\"coordinates\":{\"latitude\":48.864977,\"longitude\":2.335903},\"transactions\":[],\"price\":\"\\\\u20ac\\\\u20ac\\\\u20ac\\\\u20ac\",\"location\":{\"address1\":\"14 rue Moli\\\\u00e8re\",\"address2\":null,\"address3\":null,\"city\":\"Paris\",\"zip_code\":\"75001\",\"country\":\"FR\",\"state\":\"75\",\"display_address\":[\"14 rue Moli\\\\u00e8re\",\"75001 Paris\",\"France\"]},\"phone\":\"+33142960838\",\"display_phone\":\"+33 1 42 96 08 38\",\"distance\":566.8531693302},{\"id\":\"m7kDVQc-1_yax-KFA7pz0g\",\"alias\":\"sushi-yaki-paris-4\",\"name\":\"Sushi Yaki\",\"image_url\":\"https:\\\\/\\\\/s3-media3.fl.yelpcdn.com\\\\/bphoto\\\\/jVovGw0zus7sEuTxB82tOg\\\\/o.jpg\",\"is_closed\":false,\"url\":\"https:\\\\/\\\\/www.yelp.com\\\\/biz\\\\/sushi-yaki-paris-4?adjust_creative=4fhtQ-nKjeOr6TAmpeXp5Q&utm_campaign=yelp_api_v3&utm_medium=api_v3_business_search&utm_source=4fhtQ-nKjeOr6TAmpeXp5Q\",\"review_count\":53,\"categories\":[{\"alias\":\"sushi\",\"title\":\"Sushi Bars\"},{\"alias\":\"japanese\",\"title\":\"Japanese\"}],\"rating\":4.5,\"coordinates\":{\"latitude\":48.84845,\"longitude\":2.34066},\"transactions\":[],\"price\":\"\\\\u20ac\\\\u20ac\",\"location\":{\"address1\":\"50 rue Monsieur le Prince\",\"address2\":null,\"address3\":null,\"city\":\"Paris\",\"zip_code\":\"75006\",\"country\":\"FR\",\"state\":\"75\",\"display_address\":[\"50 rue Monsieur le Prince\",\"75006 Paris\",\"France\"]},\"phone\":\"+33146330189\",\"display_phone\":\"+33 1 46 33 01 89\",\"distance\":1506.0258592331},{\"id\":\"FXCx3Tuj8NJfCKPHJzyakg\",\"alias\":\"okuda-paris\",\"name\":\"Okuda\",\"image_url\":\"https:\\\\/\\\\/s3-media4.fl.yelpcdn.com\\\\/bphoto\\\\/pz8j-sAqKa1On22a076xeg\\\\/o.jpg\",\"is_closed\":false,\"url\":\"https:\\\\/\\\\/www.yelp.com\\\\/biz\\\\/okuda-paris?adjust_creative=4fhtQ-nKjeOr6TAmpeXp5Q&utm_campaign=yelp_api_v3&utm_medium=api_v3_business_search&utm_source=4fhtQ-nKjeOr6TAmpeXp5Q\",\"review_count\":6,\"categories\":[{\"alias\":\"japanese\",\"title\":\"Japanese\"}],\"rating\":5.0,\"coordinates\":{\"latitude\":48.8670149,\"longitude\":2.3028129},\"transactions\":[],\"price\":null,\"location\":{\"address1\":\"7 rue de la Tr\\\\u00e9moille\",\"address2\":\"\",\"address3\":\"\",\"city\":\"Paris\",\"zip_code\":\"75008\",\"country\":\"FR\",\"state\":\"75\",\"display_address\":[\"7 rue de la Tr\\\\u00e9moille\",\"75008 Paris\",\"France\"]},\"phone\":\"+33140701919\",\"display_phone\":\"+33 1 40 70 19 19\",\"distance\":2931.712739832},{\"id\":\"4LFbvZA5MINyPNoA8uLHzw\",\"alias\":\"le-bar-\\\\u00e0-sushi-izumi-paris-3\",\"name\":\"Le Bar \\\\u00e0 Sushi Izumi\",\"image_url\":\"https:\\\\/\\\\/s3-media1.fl.yelpcdn.com\\\\/bphoto\\\\/1TyTVq_sYyxfmSiJW6OuOA\\\\/o.jpg\",\"is_closed\":false,\"url\":\"https:\\\\/\\\\/www.yelp.com\\\\/biz\\\\/le-bar-%C3%A0-sushi-izumi-paris-3?adjust_creative=4fhtQ-nKjeOr6TAmpeXp5Q&utm_campaign=yelp_api_v3&utm_medium=api_v3_business_search&utm_source=4fhtQ-nKjeOr6TAmpeXp5Q\",\"review_count\":18,\"categories\":[{\"alias\":\"japanese\",\"title\":\"Japanese\"},{\"alias\":\"sushi\",\"title\":\"Sushi Bars\"}],\"rating\":4.5,\"coordinates\":{\"latitude\":48.8814583,\"longitude\":2.3183},\"transactions\":[],\"price\":\"\\\\u20ac\\\\u20ac\\\\u20ac\",\"location\":{\"address1\":\"55 bd des Batignolles\",\"address2\":\"\",\"address3\":\"\",\"city\":\"Paris\",\"zip_code\":\"75008\",\"country\":\"FR\",\"state\":\"75\",\"display_address\":[\"55 bd des Batignolles\",\"75008 Paris\",\"France\"]},\"phone\":\"+33145224355\",\"display_phone\":\"+33 1 45 22 43 55\",\"distance\":2781.4491091139},{\"id\":\"dKpNBgEVer7edbL7thfpwA\",\"alias\":\"matsuri-paris-16\",\"name\":\"Matsuri\",\"image_url\":\"https:\\\\/\\\\/s3-media3.fl.yelpcdn.com\\\\/bphoto\\\\/WL9LMP3O2Toxpg0M0tN_9w\\\\/o.jpg\",\"is_closed\":false,\"url\":\"https:\\\\/\\\\/www.yelp.com\\\\/biz\\\\/matsuri-paris-16?adjust_creative=4fhtQ-nKjeOr6TAmpeXp5Q&utm_campaign=yelp_api_v3&utm_medium=api_v3_business_search&utm_source=4fhtQ-nKjeOr6TAmpeXp5Q\",\"review_count\":9,\"categories\":[{\"alias\":\"sushi\",\"title\":\"Sushi Bars\"},{\"alias\":\"japanese\",\"title\":\"Japanese\"}],\"rating\":3.5,\"coordinates\":{\"latitude\":48.87131,\"longitude\":2.3071},\"transactions\":[],\"price\":\"\\\\u20ac\\\\u20ac\\\\u20ac\",\"location\":{\"address1\":\"103 Rue La Bo\\\\u00e9tie\",\"address2\":null,\"address3\":null,\"city\":\"Paris\",\"zip_code\":\"75008\",\"country\":\"FR\",\"state\":\"75\",\"display_address\":[\"103 Rue La Bo\\\\u00e9tie\",\"75008 Paris\",\"France\"]},\"phone\":\"+33142250220\",\"display_phone\":\"+33 1 42 25 02 20\",\"distance\":2766.4481954233},{\"id\":\"jKLE2BSO66kTjoxdZIIa5A\",\"alias\":\"aki-paris-2\",\"name\":\"Aki\",\"image_url\":\"https:\\\\/\\\\/s3-media3.fl.yelpcdn.com\\\\/bphoto\\\\/m3HauwCH-LLc8-PzPypGkg\\\\/o.jpg\",\"is_closed\":false,\"url\":\"https:\\\\/\\\\/www.yelp.com\\\\/biz\\\\/aki-paris-2?adjust_creative=4fhtQ-nKjeOr6TAmpeXp5Q&utm_campaign=yelp_api_v3&utm_medium=api_v3_business_search&utm_source=4fhtQ-nKjeOr6TAmpeXp5Q\",\"review_count\":260,\"categories\":[{\"alias\":\"japanese\",\"title\":\"Japanese\"}],\"rating\":4.0,\"coordinates\":{\"latitude\":48.86604,\"longitude\":2.3353},\"transactions\":[],\"price\":\"\\\\u20ac\\\\u20ac\",\"location\":{\"address1\":\"11 bis rue Sainte-Anne\",\"address2\":\"\",\"address3\":\"\",\"city\":\"Paris\",\"zip_code\":\"75001\",\"country\":\"FR\",\"state\":\"75\",\"display_address\":[\"11 bis rue Sainte-Anne\",\"75001 Paris\",\"France\"]},\"phone\":\"+33142975427\",\"display_phone\":\"+33 1 42 97 54 27\",\"distance\":682.4617227205},{\"id\":\"u-PsbIdHlea2tcgVpwPJsQ\",\"alias\":\"fuji-yaki-paris-2\",\"name\":\"Fuji Yaki\",\"image_url\":\"https:\\\\/\\\\/s3-media4.fl.yelpcdn.com\\\\/bphoto\\\\/GyBejDBtjk4uOUAdIpcQtA\\\\/o.jpg\",\"is_closed\":false,\"url\":\"https:\\\\/\\\\/www.yelp.com\\\\/biz\\\\/fuji-yaki-paris-2?adjust_creative=4fhtQ-nKjeOr6TAmpeXp5Q&utm_campaign=yelp_api_v3&utm_medium=api_v3_business_search&utm_source=4fhtQ-nKjeOr6TAmpeXp5Q\",\"review_count\":8,\"categories\":[{\"alias\":\"japanese\",\"title\":\"Japanese\"},{\"alias\":\"sushi\",\"title\":\"Sushi Bars\"}],\"rating\":5.0,\"coordinates\":{\"latitude\":48.85431,\"longitude\":2.37125},\"transactions\":[],\"price\":\"\\\\u20ac\\\\u20ac\",\"location\":{\"address1\":\"15 rue de la Roquette\",\"address2\":\"\",\"address3\":\"\",\"city\":\"Paris\",\"zip_code\":\"75011\",\"country\":\"FR\",\"state\":\"75\",\"display_address\":[\"15 rue de la Roquette\",\"75011 Paris\",\"France\"]},\"phone\":\"+33143384557\",\"display_phone\":\"+33 1 43 38 45 57\",\"distance\":2284.3672739593},{\"id\":\"GKPbW9AjQV4964x98geWzw\",\"alias\":\"minori-paris\",\"name\":\"Minori\",\"image_url\":\"https:\\\\/\\\\/s3-media3.fl.yelpcdn.com\\\\/bphoto\\\\/jzOsCkOSNf5vhjQRpK7cww\\\\/o.jpg\",\"is_closed\":false,\"url\":\"https:\\\\/\\\\/www.yelp.com\\\\/biz\\\\/minori-paris?adjust_creative=4fhtQ-nKjeOr6TAmpeXp5Q&utm_campaign=yelp_api_v3&utm_medium=api_v3_business_search&utm_source=4fhtQ-nKjeOr6TAmpeXp5Q\",\"review_count\":12,\"categories\":[{\"alias\":\"japanese\",\"title\":\"Japanese\"}],\"rating\":4.5,\"coordinates\":{\"latitude\":48.85631,\"longitude\":2.35721},\"transactions\":[],\"price\":\"\\\\u20ac\\\\u20ac\",\"location\":{\"address1\":\"14 rue Cloche Perce\",\"address2\":null,\"address3\":null,\"city\":\"Paris\",\"zip_code\":\"75004\",\"country\":\"FR\",\"state\":\"75\",\"display_address\":[\"14 rue Cloche Perce\",\"75004 Paris\",\"France\"]},\"phone\":\"+33144780768\",\"display_phone\":\"+33 1 44 78 07 68\",\"distance\":1268.3364092989},{\"id\":\"tJ1lo01WayFiYLJqKNVteA\",\"alias\":\"sushi-cc-paris\",\"name\":\"Sushi CC\",\"image_url\":\"https:\\\\/\\\\/s3-media2.fl.yelpcdn.com\\\\/bphoto\\\\/dISh4RH9IauLsEfzsi1NuA\\\\/o.jpg\",\"is_closed\":false,\"url\":\"https:\\\\/\\\\/www.yelp.com\\\\/biz\\\\/sushi-cc-paris?adjust_creative=4fhtQ-nKjeOr6TAmpeXp5Q&utm_campaign=yelp_api_v3&utm_medium=api_v3_business_search&utm_source=4fhtQ-nKjeOr6TAmpeXp5Q\",\"review_count\":9,\"categories\":[{\"alias\":\"japanese\",\"title\":\"Japanese\"},{\"alias\":\"sushi\",\"title\":\"Sushi Bars\"}],\"rating\":4.5,\"coordinates\":{\"latitude\":48.85691,\"longitude\":2.30156},\"transactions\":[],\"price\":null,\"location\":{\"address1\":\"67 avenue de la Bourdonnais\",\"address2\":null,\"address3\":\"\",\"city\":\"Paris\",\"zip_code\":\"75007\",\"country\":\"FR\",\"state\":\"75\",\"display_address\":[\"67 avenue de la Bourdonnais\",\"75007 Paris\",\"France\"]},\"phone\":\"+33954526512\",\"display_phone\":\"+33 9 54 52 65 12\",\"distance\":3010.5832351655},{\"id\":\"jeroqjDgXjSVwQbB9v7h6Q\",\"alias\":\"kinugawa-paris\",\"name\":\"Kinugawa\",\"image_url\":\"https:\\\\/\\\\/s3-media3.fl.yelpcdn.com\\\\/bphoto\\\\/822au5BOwxf8Ppki6Z_TqQ\\\\/o.jpg\",\"is_closed\":false,\"url\":\"https:\\\\/\\\\/www.yelp.com\\\\/biz\\\\/kinugawa-paris?adjust_creative=4fhtQ-nKjeOr6TAmpeXp5Q&utm_campaign=yelp_api_v3&utm_medium=api_v3_business_search&utm_source=4fhtQ-nKjeOr6TAmpeXp5Q\",\"review_count\":52,\"categories\":[{\"alias\":\"japanese\",\"title\":\"Japanese\"}],\"rating\":4.0,\"coordinates\":{\"latitude\":48.8655199,\"longitude\":2.32895},\"transactions\":[],\"price\":\"\\\\u20ac\\\\u20ac\\\\u20ac\\\\u20ac\",\"location\":{\"address1\":\"9 rue du Mont Thabor\",\"address2\":\"\",\"address3\":\"\",\"city\":\"Paris\",\"zip_code\":\"75001\",\"country\":\"FR\",\"state\":\"75\",\"display_address\":[\"9 rue du Mont Thabor\",\"75001 Paris\",\"France\"]},\"phone\":\"+33142606507\",\"display_phone\":\"+33 1 42 60 65 07\",\"distance\":1046.0433408132},{\"id\":\"GzWfXIXbGwacNHfJZyr-aw\",\"alias\":\"sushi-okuda-paris\",\"name\":\"Sushi Okuda\",\"image_url\":\"https:\\\\/\\\\/s3-media1.fl.yelpcdn.com\\\\/bphoto\\\\/DIvdKQl7_2Wc-tseTYvuZA\\\\/o.jpg\",\"is_closed\":false,\"url\":\"https:\\\\/\\\\/www.yelp.com\\\\/biz\\\\/sushi-okuda-paris?adjust_creative=4fhtQ-nKjeOr6TAmpeXp5Q&utm_campaign=yelp_api_v3&utm_medium=api_v3_business_search&utm_source=4fhtQ-nKjeOr6TAmpeXp5Q\",\"review_count\":4,\"categories\":[{\"alias\":\"japanese\",\"title\":\"Japanese\"},{\"alias\":\"sushi\",\"title\":\"Sushi Bars\"}],\"rating\":5.0,\"coordinates\":{\"latitude\":48.8670947,\"longitude\":2.3024713},\"transactions\":[],\"price\":null,\"location\":{\"address1\":\"18 rue Boccador\",\"address2\":\"\",\"address3\":\"\",\"city\":\"Paris\",\"zip_code\":\"75008\",\"country\":\"FR\",\"state\":\"75\",\"display_address\":[\"18 rue Boccador\",\"75008 Paris\",\"France\"]},\"phone\":\"+33147201718\",\"display_phone\":\"+33 1 47 20 17 18\",\"distance\":2957.9385299067},{\"id\":\"LPxS9JmFfxZdhs3Jy6pSbQ\",\"alias\":\"blueberry-paris\",\"name\":\"Blueberry\",\"image_url\":\"https:\\\\/\\\\/s3-media2.fl.yelpcdn.com\\\\/bphoto\\\\/OWq20tsuXpYqu_k8fDOaZQ\\\\/o.jpg\",\"is_closed\":false,\"url\":\"https:\\\\/\\\\/www.yelp.com\\\\/biz\\\\/blueberry-paris?adjust_creative=4fhtQ-nKjeOr6TAmpeXp5Q&utm_campaign=yelp_api_v3&utm_medium=api_v3_business_search&utm_source=4fhtQ-nKjeOr6TAmpeXp5Q\",\"review_count\":39,\"categories\":[{\"alias\":\"japanese\",\"title\":\"Japanese\"}],\"rating\":4.0,\"coordinates\":{\"latitude\":48.85278,\"longitude\":2.33149},\"transactions\":[],\"price\":\"\\\\u20ac\\\\u20ac\\\\u20ac\",\"location\":{\"address1\":\"6 rue Sabot\",\"address2\":\"\",\"address3\":\"\",\"city\":\"Paris\",\"zip_code\":\"75006\",\"country\":\"FR\",\"state\":\"75\",\"display_address\":[\"6 rue Sabot\",\"75006 Paris\",\"France\"]},\"phone\":\"+33142222156\",\"display_phone\":\"+33 1 42 22 21 56\",\"distance\":1284.3711541872},{\"id\":\"WJurZGVMjvCzFXAwpyMqnA\",\"alias\":\"jin-paris\",\"name\":\"Jin\",\"image_url\":\"https:\\\\/\\\\/s3-media1.fl.yelpcdn.com\\\\/bphoto\\\\/xbt-jgn6-GAE7rgUbXE94g\\\\/o.jpg\",\"is_closed\":false,\"url\":\"https:\\\\/\\\\/www.yelp.com\\\\/biz\\\\/jin-paris?adjust_creative=4fhtQ-nKjeOr6TAmpeXp5Q&utm_campaign=yelp_api_v3&utm_medium=api_v3_business_search&utm_source=4fhtQ-nKjeOr6TAmpeXp5Q\",\"review_count\":8,\"categories\":[{\"alias\":\"japanese\",\"title\":\"Japanese\"}],\"rating\":4.5,\"coordinates\":{\"latitude\":48.8653868,\"longitude\":2.3318245},\"transactions\":[],\"price\":\"\\\\u20ac\\\\u20ac\\\\u20ac\\\\u20ac\",\"location\":{\"address1\":\"6 rue de la Sourdi\\\\u00e8re\",\"address2\":\"\",\"address3\":\"\",\"city\":\"Paris\",\"zip_code\":\"75001\",\"country\":\"FR\",\"state\":\"75\",\"display_address\":[\"6 rue de la Sourdi\\\\u00e8re\",\"75001 Paris\",\"France\"]},\"phone\":\"+33142616071\",\"display_phone\":\"+33 1 42 61 60 71\",\"distance\":845.9091040045},{\"id\":\"SJWUnxwZjFikZusiuKsTmA\",\"alias\":\"midory-paris\",\"name\":\"Midory\",\"image_url\":\"https:\\\\/\\\\/s3-media4.fl.yelpcdn.com\\\\/bphoto\\\\/55ezdBXctj-2cTUenPC3IQ\\\\/o.jpg\",\"is_closed\":false,\"url\":\"https:\\\\/\\\\/www.yelp.com\\\\/biz\\\\/midory-paris?adjust_creative=4fhtQ-nKjeOr6TAmpeXp5Q&utm_campaign=yelp_api_v3&utm_medium=api_v3_business_search&utm_source=4fhtQ-nKjeOr6TAmpeXp5Q\",\"review_count\":23,\"categories\":[{\"alias\":\"japanese\",\"title\":\"Japanese\"},{\"alias\":\"sushi\",\"title\":\"Sushi Bars\"}],\"rating\":4.0,\"coordinates\":{\"latitude\":48.8612899,\"longitude\":2.34239},\"transactions\":[],\"price\":\"\\\\u20ac\\\\u20ac\",\"location\":{\"address1\":\"49 rue de l\\'Arbre Sec\",\"address2\":\"\",\"address3\":\"\",\"city\":\"Paris\",\"zip_code\":\"75001\",\"country\":\"FR\",\"state\":\"75\",\"display_address\":[\"49 rue de l\\'Arbre Sec\",\"75001 Paris\",\"France\"]},\"phone\":\"+33142974730\",\"display_phone\":\"+33 1 42 97 47 30\",\"distance\":75.1824843776},{\"id\":\"zIMSVIfT34LV0eFcAlZzZw\",\"alias\":\"guilo-guilo-paris\",\"name\":\"Guilo Guilo\",\"image_url\":\"https:\\\\/\\\\/s3-media2.fl.yelpcdn.com\\\\/bphoto\\\\/Aomw0dZNdQjVfJ9a2ZIxqg\\\\/o.jpg\",\"is_closed\":false,\"url\":\"https:\\\\/\\\\/www.yelp.com\\\\/biz\\\\/guilo-guilo-paris?adjust_creative=4fhtQ-nKjeOr6TAmpeXp5Q&utm_campaign=yelp_api_v3&utm_medium=api_v3_business_search&utm_source=4fhtQ-nKjeOr6TAmpeXp5Q\",\"review_count\":85,\"categories\":[{\"alias\":\"japanese\",\"title\":\"Japanese\"}],\"rating\":4.5,\"coordinates\":{\"latitude\":48.88599,\"longitude\":2.33708},\"transactions\":[],\"price\":\"\\\\u20ac\\\\u20ac\\\\u20ac\\\\u20ac\",\"location\":{\"address1\":\"8 rue Garreau\",\"address2\":\"\",\"address3\":\"\",\"city\":\"Paris\",\"zip_code\":\"75018\",\"country\":\"FR\",\"state\":\"75\",\"display_address\":[\"8 rue Garreau\",\"75018 Paris\",\"France\"]},\"phone\":\"+33142542392\",\"display_phone\":\"+33 1 42 54 23 92\",\"distance\":2700.789809016},{\"id\":\"3QYtPC4AiDBNSHP6b9AERw\",\"alias\":\"oi-sushi-paris\",\"name\":\"Oi Sushi\",\"image_url\":\"https:\\\\/\\\\/s3-media1.fl.yelpcdn.com\\\\/bphoto\\\\/5UTq_82ZykLQ3tw8gqoq9g\\\\/o.jpg\",\"is_closed\":false,\"url\":\"https:\\\\/\\\\/www.yelp.com\\\\/biz\\\\/oi-sushi-paris?adjust_creative=4fhtQ-nKjeOr6TAmpeXp5Q&utm_campaign=yelp_api_v3&utm_medium=api_v3_business_search&utm_source=4fhtQ-nKjeOr6TAmpeXp5Q\",\"review_count\":26,\"categories\":[{\"alias\":\"japanese\",\"title\":\"Japanese\"},{\"alias\":\"sushi\",\"title\":\"Sushi Bars\"}],\"rating\":4.5,\"coordinates\":{\"latitude\":48.8448243221,\"longitude\":2.3492753735},\"transactions\":[],\"price\":\"\\\\u20ac\\\\u20ac\",\"location\":{\"address1\":\"8 rue Moufferard\",\"address2\":\"\",\"address3\":\"\",\"city\":\"Paris\",\"zip_code\":\"75005\",\"country\":\"FR\",\"state\":\"75\",\"display_address\":[\"8 rue Moufferard\",\"75005 Paris\",\"France\"]},\"phone\":\"+33155420221\",\"display_phone\":\"+33 1 55 42 02 21\",\"distance\":1975.3227456517},{\"id\":\"AEIBnBdR1yUcyTaj9rHBPA\",\"alias\":\"yeko-sushi-paris\",\"name\":\"Yeko sushi\",\"image_url\":\"https:\\\\/\\\\/s3-media2.fl.yelpcdn.com\\\\/bphoto\\\\/OFnAM__m0v2aR_VLfqvPfg\\\\/o.jpg\",\"is_closed\":false,\"url\":\"https:\\\\/\\\\/www.yelp.com\\\\/biz\\\\/yeko-sushi-paris?adjust_creative=4fhtQ-nKjeOr6TAmpeXp5Q&utm_campaign=yelp_api_v3&utm_medium=api_v3_business_search&utm_source=4fhtQ-nKjeOr6TAmpeXp5Q\",\"review_count\":2,\"categories\":[{\"alias\":\"japanese\",\"title\":\"Japanese\"},{\"alias\":\"sushi\",\"title\":\"Sushi Bars\"}],\"rating\":4.5,\"coordinates\":{\"latitude\":48.8635,\"longitude\":2.34634},\"transactions\":[],\"price\":null,\"location\":{\"address1\":\"7 rue Montorgueil\",\"address2\":\"\",\"address3\":\"\",\"city\":\"Paris\",\"zip_code\":\"75001\",\"country\":\"FR\",\"state\":\"75\",\"display_address\":[\"7 rue Montorgueil\",\"75001 Paris\",\"France\"]},\"phone\":\"+33144760382\",\"display_phone\":\"+33 1 44 76 03 82\",\"distance\":351.3091181272},{\"id\":\"cbbsXqkWgSyVBu2INhAnUA\",\"alias\":\"rice-and-fish-paris\",\"name\":\"Rice and Fish\",\"image_url\":\"https:\\\\/\\\\/s3-media2.fl.yelpcdn.com\\\\/bphoto\\\\/m2MA7jRvWhbk6kmcbqlBpA\\\\/o.jpg\",\"is_closed\":false,\"url\":\"https:\\\\/\\\\/www.yelp.com\\\\/biz\\\\/rice-and-fish-paris?adjust_creative=4fhtQ-nKjeOr6TAmpeXp5Q&utm_campaign=yelp_api_v3&utm_medium=api_v3_business_search&utm_source=4fhtQ-nKjeOr6TAmpeXp5Q\",\"review_count\":90,\"categories\":[{\"alias\":\"japanese\",\"title\":\"Japanese\"}],\"rating\":4.0,\"coordinates\":{\"latitude\":48.86525,\"longitude\":2.35125},\"transactions\":[],\"price\":\"\\\\u20ac\\\\u20ac\",\"location\":{\"address1\":\"16 rue Greneta\",\"address2\":\"\",\"address3\":\"\",\"city\":\"Paris\",\"zip_code\":\"75002\",\"country\":\"FR\",\"state\":\"75\",\"display_address\":[\"16 rue Greneta\",\"75002 Paris\",\"France\"]},\"phone\":\"+33142366372\",\"display_phone\":\"+33 1 42 36 63 72\",\"distance\":763.0737451668},{\"id\":\"zfya5GlB_wXM1vhWrvIbmQ\",\"alias\":\"matsuda-paris-01\",\"name\":\"Matsuda\",\"image_url\":\"https:\\\\/\\\\/s3-media2.fl.yelpcdn.com\\\\/bphoto\\\\/O_ZbsHsRAjgIJSlJM3clnw\\\\/o.jpg\",\"is_closed\":false,\"url\":\"https:\\\\/\\\\/www.yelp.com\\\\/biz\\\\/matsuda-paris-01?adjust_creative=4fhtQ-nKjeOr6TAmpeXp5Q&utm_campaign=yelp_api_v3&utm_medium=api_v3_business_search&utm_source=4fhtQ-nKjeOr6TAmpeXp5Q\",\"review_count\":21,\"categories\":[{\"alias\":\"japanese\",\"title\":\"Japanese\"}],\"rating\":4.0,\"coordinates\":{\"latitude\":48.86517,\"longitude\":2.33215},\"transactions\":[],\"price\":\"\\\\u20ac\\\\u20ac\\\\u20ac\\\\u20ac\",\"location\":{\"address1\":\"19 Rue St Roch\",\"address2\":null,\"address3\":null,\"city\":\"Paris 01\",\"zip_code\":\"75001\",\"country\":\"FR\",\"state\":\"75\",\"display_address\":[\"19 Rue St Roch\",\"75001 Paris 01\",\"France\"]},\"phone\":\"+33142602838\",\"display_phone\":\"+33 1 42 60 28 38\",\"distance\":813.8629557617},{\"id\":\"W2DRU4CmZwGy6I5C1Jwe1g\",\"alias\":\"sushi-b-paris\",\"name\":\"Sushi B\",\"image_url\":\"https:\\\\/\\\\/s3-media1.fl.yelpcdn.com\\\\/bphoto\\\\/7j9D9HLhL9P050yYL5fy3w\\\\/o.jpg\",\"is_closed\":false,\"url\":\"https:\\\\/\\\\/www.yelp.com\\\\/biz\\\\/sushi-b-paris?adjust_creative=4fhtQ-nKjeOr6TAmpeXp5Q&utm_campaign=yelp_api_v3&utm_medium=api_v3_business_search&utm_source=4fhtQ-nKjeOr6TAmpeXp5Q\",\"review_count\":5,\"categories\":[{\"alias\":\"sushi\",\"title\":\"Sushi Bars\"},{\"alias\":\"japanese\",\"title\":\"Japanese\"}],\"rating\":5.0,\"coordinates\":{\"latitude\":48.8677572026,\"longitude\":2.3374665252},\"transactions\":[],\"price\":\"\\\\u20ac\\\\u20ac\\\\u20ac\\\\u20ac\",\"location\":{\"address1\":\"5 rue Rameau\",\"address2\":\"\",\"address3\":null,\"city\":\"Paris\",\"zip_code\":\"75002\",\"country\":\"FR\",\"state\":\"75\",\"display_address\":[\"5 rue Rameau\",\"75002 Paris\",\"France\"]},\"phone\":\"+33140265287\",\"display_phone\":\"+33 1 40 26 52 87\",\"distance\":730.0618405952},{\"id\":\"DHeuG3ouyUYYubs966Okcw\",\"alias\":\"sushi-room-paris\",\"name\":\"Sushi Room\",\"image_url\":\"https:\\\\/\\\\/s3-media1.fl.yelpcdn.com\\\\/bphoto\\\\/O0Tsc8Sw2hY9CBBi1RxSYw\\\\/o.jpg\",\"is_closed\":false,\"url\":\"https:\\\\/\\\\/www.yelp.com\\\\/biz\\\\/sushi-room-paris?adjust_creative=4fhtQ-nKjeOr6TAmpeXp5Q&utm_campaign=yelp_api_v3&utm_medium=api_v3_business_search&utm_source=4fhtQ-nKjeOr6TAmpeXp5Q\",\"review_count\":8,\"categories\":[{\"alias\":\"japanese\",\"title\":\"Japanese\"},{\"alias\":\"sushi\",\"title\":\"Sushi Bars\"}],\"rating\":4.0,\"coordinates\":{\"latitude\":48.8608,\"longitude\":2.36783},\"transactions\":[],\"price\":\"\\\\u20ac\",\"location\":{\"address1\":\"82 rue Amelot\",\"address2\":\"\",\"address3\":\"\",\"city\":\"Paris\",\"zip_code\":\"75011\",\"country\":\"FR\",\"state\":\"75\",\"display_address\":[\"82 rue Amelot\",\"75011 Paris\",\"France\"]},\"phone\":\"+33158308279\",\"display_phone\":\"+33 1 58 30 82 79\",\"distance\":1883.1444983641},{\"id\":\"-yaW71_7betiI_nAqBSZRQ\",\"alias\":\"ito-izakaya-paris\",\"name\":\"Ito Izakaya\",\"image_url\":\"https:\\\\/\\\\/s3-media4.fl.yelpcdn.com\\\\/bphoto\\\\/ZhmyyD9XUozvxhb-AWao-Q\\\\/o.jpg\",\"is_closed\":false,\"url\":\"https:\\\\/\\\\/www.yelp.com\\\\/biz\\\\/ito-izakaya-paris?adjust_creative=4fhtQ-nKjeOr6TAmpeXp5Q&utm_campaign=yelp_api_v3&utm_medium=api_v3_business_search&utm_source=4fhtQ-nKjeOr6TAmpeXp5Q\",\"review_count\":25,\"categories\":[{\"alias\":\"japanese\",\"title\":\"Japanese\"},{\"alias\":\"tapas\",\"title\":\"Tapas Bars\"},{\"alias\":\"panasian\",\"title\":\"Pan Asian\"}],\"rating\":4.0,\"coordinates\":{\"latitude\":48.8805719,\"longitude\":2.3350294},\"transactions\":[],\"price\":\"\\\\u20ac\\\\u20ac\\\\u20ac\",\"location\":{\"address1\":\"4 rue Pierre Fontaine\",\"address2\":\"\",\"address3\":null,\"city\":\"Paris\",\"zip_code\":\"75009\",\"country\":\"FR\",\"state\":\"75\",\"display_address\":[\"4 rue Pierre Fontaine\",\"75009 Paris\",\"France\"]},\"phone\":\"+33952912300\",\"display_phone\":\"+33 9 52 91 23 00\",\"distance\":2134.1796067127},{\"id\":\"AFzIhg_3YetXr5To798jew\",\"alias\":\"okinawa-sushi-paris\",\"name\":\"Okinawa Sushi\",\"image_url\":\"https:\\\\/\\\\/s3-media4.fl.yelpcdn.com\\\\/bphoto\\\\/6uO-0Q6XPD-3Pak9ZPWgNw\\\\/o.jpg\",\"is_closed\":false,\"url\":\"https:\\\\/\\\\/www.yelp.com\\\\/biz\\\\/okinawa-sushi-paris?adjust_creative=4fhtQ-nKjeOr6TAmpeXp5Q&utm_campaign=yelp_api_v3&utm_medium=api_v3_business_search&utm_source=4fhtQ-nKjeOr6TAmpeXp5Q\",\"review_count\":34,\"categories\":[{\"alias\":\"japanese\",\"title\":\"Japanese\"}],\"rating\":4.5,\"coordinates\":{\"latitude\":48.8713,\"longitude\":2.34578},\"transactions\":[],\"price\":\"\\\\u20ac\\\\u20ac\",\"location\":{\"address1\":\"5 Rue Rougemont\",\"address2\":null,\"address3\":null,\"city\":\"Paris\",\"zip_code\":\"75009\",\"country\":\"FR\",\"state\":\"75\",\"display_address\":[\"5 Rue Rougemont\",\"75009 Paris\",\"France\"]},\"phone\":\"+33142463100\",\"display_phone\":\"+33 1 42 46 31 00\",\"distance\":1072.1529232767},{\"id\":\"b0XjLc9opWwatkreu9WOUw\",\"alias\":\"shook-paris\",\"name\":\"Shook\",\"image_url\":\"https:\\\\/\\\\/s3-media1.fl.yelpcdn.com\\\\/bphoto\\\\/eGJ9IPFQh0GhD6HxhXNTfQ\\\\/o.jpg\",\"is_closed\":false,\"url\":\"https:\\\\/\\\\/www.yelp.com\\\\/biz\\\\/shook-paris?adjust_creative=4fhtQ-nKjeOr6TAmpeXp5Q&utm_campaign=yelp_api_v3&utm_medium=api_v3_business_search&utm_source=4fhtQ-nKjeOr6TAmpeXp5Q\",\"review_count\":1,\"categories\":[{\"alias\":\"japanese\",\"title\":\"Japanese\"},{\"alias\":\"sushi\",\"title\":\"Sushi Bars\"}],\"rating\":5.0,\"coordinates\":{\"latitude\":48.85348,\"longitude\":2.37062},\"transactions\":[],\"price\":\"\\\\u20ac\\\\u20ac\",\"location\":{\"address1\":\"8 rue de la Roquette\",\"address2\":\"\",\"address3\":null,\"city\":\"Paris\",\"zip_code\":\"75011\",\"country\":\"FR\",\"state\":\"75\",\"display_address\":[\"8 rue de la Roquette\",\"75011 Paris\",\"France\"]},\"phone\":\"+33148052066\",\"display_phone\":\"+33 1 48 05 20 66\",\"distance\":2285.9652976493},{\"id\":\"SNzTBpZtOugN1WyuO6Gj5Q\",\"alias\":\"enishi-paris\",\"name\":\"Enishi\",\"image_url\":\"https:\\\\/\\\\/s3-media4.fl.yelpcdn.com\\\\/bphoto\\\\/vaIS0W1Sy9MJuYZuOVGeiA\\\\/o.jpg\",\"is_closed\":false,\"url\":\"https:\\\\/\\\\/www.yelp.com\\\\/biz\\\\/enishi-paris?adjust_creative=4fhtQ-nKjeOr6TAmpeXp5Q&utm_campaign=yelp_api_v3&utm_medium=api_v3_business_search&utm_source=4fhtQ-nKjeOr6TAmpeXp5Q\",\"review_count\":36,\"categories\":[{\"alias\":\"japanese\",\"title\":\"Japanese\"}],\"rating\":4.5,\"coordinates\":{\"latitude\":48.88876,\"longitude\":2.34602},\"transactions\":[],\"price\":\"\\\\u20ac\\\\u20ac\",\"location\":{\"address1\":\"67 rue Labat\",\"address2\":\"\",\"address3\":\"\",\"city\":\"Paris\",\"zip_code\":\"75018\",\"country\":\"FR\",\"state\":\"75\",\"display_address\":[\"67 rue Labat\",\"75018 Paris\",\"France\"]},\"phone\":\"+33142573214\",\"display_phone\":\"+33 1 42 57 32 14\",\"distance\":2991.7125022419},{\"id\":\"UJ52r8ETrA4hU1_yZVXMlQ\",\"alias\":\"sushi-zo-paris\",\"name\":\"Sushi Zo\",\"image_url\":\"https:\\\\/\\\\/s3-media2.fl.yelpcdn.com\\\\/bphoto\\\\/FOUx3JmHR3OJoIF5nYUf3Q\\\\/o.jpg\",\"is_closed\":false,\"url\":\"https:\\\\/\\\\/www.yelp.com\\\\/biz\\\\/sushi-zo-paris?adjust_creative=4fhtQ-nKjeOr6TAmpeXp5Q&utm_campaign=yelp_api_v3&utm_medium=api_v3_business_search&utm_source=4fhtQ-nKjeOr6TAmpeXp5Q\",\"review_count\":2,\"categories\":[{\"alias\":\"japanese\",\"title\":\"Japanese\"},{\"alias\":\"sushi\",\"title\":\"Sushi Bars\"}],\"rating\":5.0,\"coordinates\":{\"latitude\":48.86656,\"longitude\":2.36045},\"transactions\":[],\"price\":null,\"location\":{\"address1\":\"77 rue de Turbigo\",\"address2\":null,\"address3\":\"\",\"city\":\"Paris\",\"zip_code\":\"75003\",\"country\":\"FR\",\"state\":\"75\",\"display_address\":[\"77 rue de Turbigo\",\"75003 Paris\",\"France\"]},\"phone\":\"+33142711313\",\"display_phone\":\"+33 1 42 71 13 13\",\"distance\":1432.7691527193},{\"id\":\"1K04xUu6xJv3TycBf-_O9A\",\"alias\":\"miss-k\\\\u014d-paris-2\",\"name\":\"Miss K\\\\u014d\",\"image_url\":\"https:\\\\/\\\\/s3-media1.fl.yelpcdn.com\\\\/bphoto\\\\/WFSKneJfDkcsuJZPwqCSSA\\\\/o.jpg\",\"is_closed\":false,\"url\":\"https:\\\\/\\\\/www.yelp.com\\\\/biz\\\\/miss-k%C5%8D-paris-2?adjust_creative=4fhtQ-nKjeOr6TAmpeXp5Q&utm_campaign=yelp_api_v3&utm_medium=api_v3_business_search&utm_source=4fhtQ-nKjeOr6TAmpeXp5Q\",\"review_count\":128,\"categories\":[{\"alias\":\"cocktailbars\",\"title\":\"Cocktail Bars\"},{\"alias\":\"sushi\",\"title\":\"Sushi Bars\"},{\"alias\":\"panasian\",\"title\":\"Pan Asian\"}],\"rating\":3.5,\"coordinates\":{\"latitude\":48.870896,\"longitude\":2.300525},\"transactions\":[],\"price\":\"\\\\u20ac\\\\u20ac\\\\u20ac\",\"location\":{\"address1\":\"49\\\\/51 avenue George V\",\"address2\":\"\",\"address3\":\"\",\"city\":\"Paris\",\"zip_code\":\"75008\",\"country\":\"FR\",\"state\":\"75\",\"display_address\":[\"49\\\\/51 avenue George V\",\"75008 Paris\",\"France\"]},\"phone\":\"+33153678460\",\"display_phone\":\"+33 1 53 67 84 60\",\"distance\":3202.6261326108},{\"id\":\"iAe8mQ4KI2ncZAtot4Nhwg\",\"alias\":\"yamato-paris-9\",\"name\":\"Yamato\",\"image_url\":\"https:\\\\/\\\\/s3-media2.fl.yelpcdn.com\\\\/bphoto\\\\/Erfum-EQDGbVejRbRjA_GQ\\\\/o.jpg\",\"is_closed\":false,\"url\":\"https:\\\\/\\\\/www.yelp.com\\\\/biz\\\\/yamato-paris-9?adjust_creative=4fhtQ-nKjeOr6TAmpeXp5Q&utm_campaign=yelp_api_v3&utm_medium=api_v3_business_search&utm_source=4fhtQ-nKjeOr6TAmpeXp5Q\",\"review_count\":6,\"categories\":[{\"alias\":\"japanese\",\"title\":\"Japanese\"}],\"rating\":4.0,\"coordinates\":{\"latitude\":48.840593,\"longitude\":2.333239},\"transactions\":[],\"price\":\"\\\\u20ac\\\\u20ac\",\"location\":{\"address1\":\"144 bis boulevard du Montparnasse\",\"address2\":null,\"address3\":null,\"city\":\"Paris\",\"zip_code\":\"75014\",\"country\":\"FR\",\"state\":\"75\",\"display_address\":[\"144 bis boulevard du Montparnasse\",\"75014 Paris\",\"France\"]},\"phone\":\"+33143201634\",\"display_phone\":\"+33 1 43 20 16 34\",\"distance\":2463.5457639989},{\"id\":\"hM7GgJTuQMgLBUtrluxPDQ\",\"alias\":\"nagoya-paris-2\",\"name\":\"Nagoya\",\"image_url\":\"https:\\\\/\\\\/s3-media1.fl.yelpcdn.com\\\\/bphoto\\\\/awFFIQRm8HLCO_x-Rfe9Bw\\\\/o.jpg\",\"is_closed\":false,\"url\":\"https:\\\\/\\\\/www.yelp.com\\\\/biz\\\\/nagoya-paris-2?adjust_creative=4fhtQ-nKjeOr6TAmpeXp5Q&utm_campaign=yelp_api_v3&utm_medium=api_v3_business_search&utm_source=4fhtQ-nKjeOr6TAmpeXp5Q\",\"review_count\":91,\"categories\":[{\"alias\":\"japanese\",\"title\":\"Japanese\"}],\"rating\":4.0,\"coordinates\":{\"latitude\":48.8442513262,\"longitude\":2.3220430873},\"transactions\":[],\"price\":\"\\\\u20ac\\\\u20ac\",\"location\":{\"address1\":\"58 boulevard du Montparnasse\",\"address2\":null,\"address3\":null,\"city\":\"Paris\",\"zip_code\":\"75015\",\"country\":\"FR\",\"state\":\"75\",\"display_address\":[\"58 boulevard du Montparnasse\",\"75015 Paris\",\"France\"]},\"phone\":\"+33145726188\",\"display_phone\":\"+33 1 45 72 61 88\",\"distance\":2457.7515652472},{\"id\":\"CXTe-pvzSscFIW6A9q54Vg\",\"alias\":\"sushi-al\\\\u00e9sia-paris-4\",\"name\":\"Sushi Al\\\\u00e9sia\",\"image_url\":\"https:\\\\/\\\\/s3-media3.fl.yelpcdn.com\\\\/bphoto\\\\/ck4TwCvYTLu33z0mQtV9TA\\\\/o.jpg\",\"is_closed\":false,\"url\":\"https:\\\\/\\\\/www.yelp.com\\\\/biz\\\\/sushi-al%C3%A9sia-paris-4?adjust_creative=4fhtQ-nKjeOr6TAmpeXp5Q&utm_campaign=yelp_api_v3&utm_medium=api_v3_business_search&utm_source=4fhtQ-nKjeOr6TAmpeXp5Q\",\"review_count\":13,\"categories\":[{\"alias\":\"sushi\",\"title\":\"Sushi Bars\"},{\"alias\":\"japanese\",\"title\":\"Japanese\"}],\"rating\":4.0,\"coordinates\":{\"latitude\":48.82886,\"longitude\":2.32939},\"transactions\":[],\"price\":\"\\\\u20ac\",\"location\":{\"address1\":\"34 Rue B\\\\u00e9zout\",\"address2\":null,\"address3\":null,\"city\":\"Paris\",\"zip_code\":\"75014\",\"country\":\"FR\",\"state\":\"75\",\"display_address\":[\"34 Rue B\\\\u00e9zout\",\"75014 Paris\",\"France\"]},\"phone\":\"+33153911888\",\"display_phone\":\"+33 1 53 91 18 88\",\"distance\":3796.9530125347},{\"id\":\"-KQrUghSMAQP4yj6EGdcBA\",\"alias\":\"nikko-paris\",\"name\":\"Nikko\",\"image_url\":\"https:\\\\/\\\\/s3-media1.fl.yelpcdn.com\\\\/bphoto\\\\/-w-NKjn7Az7Mb2vc_v6kBQ\\\\/o.jpg\",\"is_closed\":false,\"url\":\"https:\\\\/\\\\/www.yelp.com\\\\/biz\\\\/nikko-paris?adjust_creative=4fhtQ-nKjeOr6TAmpeXp5Q&utm_campaign=yelp_api_v3&utm_medium=api_v3_business_search&utm_source=4fhtQ-nKjeOr6TAmpeXp5Q\",\"review_count\":2,\"categories\":[{\"alias\":\"japanese\",\"title\":\"Japanese\"}],\"rating\":4.5,\"coordinates\":{\"latitude\":48.86993,\"longitude\":2.33467},\"transactions\":[],\"price\":\"\\\\u20ac\\\\u20ac\\\\u20ac\",\"location\":{\"address1\":\"11 rue de la Michodiere\",\"address2\":\"\",\"address3\":\"\",\"city\":\"Paris\",\"zip_code\":\"75002\",\"country\":\"FR\",\"state\":\"75\",\"display_address\":[\"11 rue de la Michodiere\",\"75002 Paris\",\"France\"]},\"phone\":\"+33147427481\",\"display_phone\":\"+33 1 47 42 74 81\",\"distance\":1041.5607560043},{\"id\":\"mLtAQbxZz_MyiaRAi-Vy3A\",\"alias\":\"tsukizi-paris\",\"name\":\"Tsukizi\",\"image_url\":\"https:\\\\/\\\\/s3-media3.fl.yelpcdn.com\\\\/bphoto\\\\/Vfkg7Oz-wc8DyCL9_GmzDA\\\\/o.jpg\",\"is_closed\":false,\"url\":\"https:\\\\/\\\\/www.yelp.com\\\\/biz\\\\/tsukizi-paris?adjust_creative=4fhtQ-nKjeOr6TAmpeXp5Q&utm_campaign=yelp_api_v3&utm_medium=api_v3_business_search&utm_source=4fhtQ-nKjeOr6TAmpeXp5Q\",\"review_count\":33,\"categories\":[{\"alias\":\"japanese\",\"title\":\"Japanese\"}],\"rating\":4.0,\"coordinates\":{\"latitude\":48.85339,\"longitude\":2.3341},\"transactions\":[],\"price\":\"\\\\u20ac\\\\u20ac\\\\u20ac\",\"location\":{\"address1\":\"2 Bis rue des Ciseaux\",\"address2\":null,\"address3\":null,\"city\":\"Paris\",\"zip_code\":\"75006\",\"country\":\"FR\",\"state\":\"75\",\"display_address\":[\"2 Bis rue des Ciseaux\",\"75006 Paris\",\"France\"]},\"phone\":\"+33143546519\",\"display_phone\":\"+33 1 43 54 65 19\",\"distance\":1120.0204375835},{\"id\":\"LA0srbBmKOBImQOU7q9oTg\",\"alias\":\"hokkaido-paris-7\",\"name\":\"Hokkaido\",\"image_url\":\"https:\\\\/\\\\/s3-media1.fl.yelpcdn.com\\\\/bphoto\\\\/vt0pME4g-F78NADo6jruTA\\\\/o.jpg\",\"is_closed\":false,\"url\":\"https:\\\\/\\\\/www.yelp.com\\\\/biz\\\\/hokkaido-paris-7?adjust_creative=4fhtQ-nKjeOr6TAmpeXp5Q&utm_campaign=yelp_api_v3&utm_medium=api_v3_business_search&utm_source=4fhtQ-nKjeOr6TAmpeXp5Q\",\"review_count\":28,\"categories\":[{\"alias\":\"japanese\",\"title\":\"Japanese\"}],\"rating\":4.0,\"coordinates\":{\"latitude\":48.86379,\"longitude\":2.34299},\"transactions\":[],\"price\":\"\\\\u20ac\\\\u20ac\",\"location\":{\"address1\":\"54 Rue Jean Jacques Rousseau\",\"address2\":null,\"address3\":null,\"city\":\"Paris\",\"zip_code\":\"75001\",\"country\":\"FR\",\"state\":\"75\",\"display_address\":[\"54 Rue Jean Jacques Rousseau\",\"75001 Paris\",\"France\"]},\"phone\":\"+33140265010\",\"display_phone\":\"+33 1 40 26 50 10\",\"distance\":212.7559525281},{\"id\":\"_9EXpFrqSxn0hDm-twNOWw\",\"alias\":\"sushi-nagoya-paris\",\"name\":\"sushi nagoya\",\"image_url\":\"https:\\\\/\\\\/s3-media4.fl.yelpcdn.com\\\\/bphoto\\\\/Ki0JgxIMr3nPIufvPv-8OA\\\\/o.jpg\",\"is_closed\":false,\"url\":\"https:\\\\/\\\\/www.yelp.com\\\\/biz\\\\/sushi-nagoya-paris?adjust_creative=4fhtQ-nKjeOr6TAmpeXp5Q&utm_campaign=yelp_api_v3&utm_medium=api_v3_business_search&utm_source=4fhtQ-nKjeOr6TAmpeXp5Q\",\"review_count\":7,\"categories\":[{\"alias\":\"japanese\",\"title\":\"Japanese\"}],\"rating\":3.0,\"coordinates\":{\"latitude\":48.8538411,\"longitude\":2.3387124},\"transactions\":[],\"price\":\"\\\\u20ac\\\\u20ac\",\"location\":{\"address1\":\"59 Dauphine\",\"address2\":null,\"address3\":null,\"city\":\"Paris\",\"zip_code\":\"75006\",\"country\":\"FR\",\"state\":\"75\",\"display_address\":[\"59 Dauphine\",\"75006 Paris\",\"France\"]},\"phone\":\"+33952145080\",\"display_phone\":\"+33 9 52 14 50 80\",\"distance\":936.9620161951},{\"id\":\"8xED02x9_Um7BU4ZsWyphA\",\"alias\":\"c\\\\u00f4t\\\\u00e9-sushi-paris-12\",\"name\":\"C\\\\u00f4t\\\\u00e9 Sushi\",\"image_url\":\"https:\\\\/\\\\/s3-media2.fl.yelpcdn.com\\\\/bphoto\\\\/a-le7qz9Kx_OfZuCpWX0jw\\\\/o.jpg\",\"is_closed\":false,\"url\":\"https:\\\\/\\\\/www.yelp.com\\\\/biz\\\\/c%C3%B4t%C3%A9-sushi-paris-12?adjust_creative=4fhtQ-nKjeOr6TAmpeXp5Q&utm_campaign=yelp_api_v3&utm_medium=api_v3_business_search&utm_source=4fhtQ-nKjeOr6TAmpeXp5Q\",\"review_count\":15,\"categories\":[{\"alias\":\"japanese\",\"title\":\"Japanese\"},{\"alias\":\"sushi\",\"title\":\"Sushi Bars\"}],\"rating\":4.5,\"coordinates\":{\"latitude\":48.866738,\"longitude\":2.29995},\"transactions\":[],\"price\":\"\\\\u20ac\\\\u20ac\",\"location\":{\"address1\":\"23 avenue Marceau\",\"address2\":null,\"address3\":null,\"city\":\"Paris\",\"zip_code\":\"75116\",\"country\":\"FR\",\"state\":\"75\",\"display_address\":[\"23 avenue Marceau\",\"75116 Paris\",\"France\"]},\"phone\":\"+33144435113\",\"display_phone\":\"+33 1 44 43 51 13\",\"distance\":3132.13735637},{\"id\":\"d2N7vUpD1kZ7HehPMPTA8g\",\"alias\":\"ryaki-paris\",\"name\":\"Ryaki\",\"image_url\":\"https:\\\\/\\\\/s3-media2.fl.yelpcdn.com\\\\/bphoto\\\\/Nt8W13-RV9XDLY8ACNnj3g\\\\/o.jpg\",\"is_closed\":false,\"url\":\"https:\\\\/\\\\/www.yelp.com\\\\/biz\\\\/ryaki-paris?adjust_creative=4fhtQ-nKjeOr6TAmpeXp5Q&utm_campaign=yelp_api_v3&utm_medium=api_v3_business_search&utm_source=4fhtQ-nKjeOr6TAmpeXp5Q\",\"review_count\":4,\"categories\":[{\"alias\":\"restaurants\",\"title\":\"Restaurants\"}],\"rating\":5.0,\"coordinates\":{\"latitude\":48.85746,\"longitude\":2.35439},\"transactions\":[],\"price\":\"\\\\u20ac\\\\u20ac\",\"location\":{\"address1\":\"24 rue de la Verrerie\",\"address2\":null,\"address3\":null,\"city\":\"Paris\",\"zip_code\":\"75004\",\"country\":\"FR\",\"state\":\"75\",\"display_address\":[\"24 rue de la Verrerie\",\"75004 Paris\",\"France\"]},\"phone\":\"+33142714437\",\"display_phone\":\"+33 1 42 71 44 37\",\"distance\":1025.8128020124},{\"id\":\"kYQhkfPyfVRxBWyS1N_cEA\",\"alias\":\"sushi-shop-paris-5\",\"name\":\"Sushi Shop\",\"image_url\":\"https:\\\\/\\\\/s3-media3.fl.yelpcdn.com\\\\/bphoto\\\\/AAWrkmKYirEOtoQPSHompg\\\\/o.jpg\",\"is_closed\":false,\"url\":\"https:\\\\/\\\\/www.yelp.com\\\\/biz\\\\/sushi-shop-paris-5?adjust_creative=4fhtQ-nKjeOr6TAmpeXp5Q&utm_campaign=yelp_api_v3&utm_medium=api_v3_business_search&utm_source=4fhtQ-nKjeOr6TAmpeXp5Q\",\"review_count\":6,\"categories\":[{\"alias\":\"sushi\",\"title\":\"Sushi Bars\"},{\"alias\":\"japanese\",\"title\":\"Japanese\"}],\"rating\":4.0,\"coordinates\":{\"latitude\":48.86334,\"longitude\":2.361788},\"transactions\":[],\"price\":\"\\\\u20ac\\\\u20ac\",\"location\":{\"address1\":\"42 rue de Bretagne\",\"address2\":\"\",\"address3\":\"\",\"city\":\"Paris\",\"zip_code\":\"75003\",\"country\":\"FR\",\"state\":\"75\",\"display_address\":[\"42 rue de Bretagne\",\"75003 Paris\",\"France\"]},\"phone\":\"+33144788485\",\"display_phone\":\"+33 1 44 78 84 85\",\"distance\":1444.8924094321},{\"id\":\"Wi5ago4NIvZWo3q37kXIJw\",\"alias\":\"forum-sushi-paris-2\",\"name\":\"Forum Sushi\",\"image_url\":\"https:\\\\/\\\\/s3-media3.fl.yelpcdn.com\\\\/bphoto\\\\/75mObHPy9bX_bx0O_df9tg\\\\/o.jpg\",\"is_closed\":false,\"url\":\"https:\\\\/\\\\/www.yelp.com\\\\/biz\\\\/forum-sushi-paris-2?adjust_creative=4fhtQ-nKjeOr6TAmpeXp5Q&utm_campaign=yelp_api_v3&utm_medium=api_v3_business_search&utm_source=4fhtQ-nKjeOr6TAmpeXp5Q\",\"review_count\":18,\"categories\":[{\"alias\":\"japanese\",\"title\":\"Japanese\"},{\"alias\":\"sushi\",\"title\":\"Sushi Bars\"}],\"rating\":4.0,\"coordinates\":{\"latitude\":48.8623209,\"longitude\":2.3501253},\"transactions\":[],\"price\":\"\\\\u20ac\\\\u20ac\",\"location\":{\"address1\":\"55 boulevard de S\\\\u00e9bastopol\",\"address2\":null,\"address3\":null,\"city\":\"Paris\",\"zip_code\":\"75001\",\"country\":\"FR\",\"state\":\"75\",\"display_address\":[\"55 boulevard de S\\\\u00e9bastopol\",\"75001 Paris\",\"France\"]},\"phone\":\"+33145088887\",\"display_phone\":\"+33 1 45 08 88 87\",\"distance\":584.9574404109},{\"id\":\"ILbQqN2kNaKjD2yJWlTDsg\",\"alias\":\"chez-hanafousa-paris\",\"name\":\"Chez Hanafousa\",\"image_url\":\"https:\\\\/\\\\/s3-media3.fl.yelpcdn.com\\\\/bphoto\\\\/7VUMjZ8Qln4p5t9R9p3wug\\\\/o.jpg\",\"is_closed\":false,\"url\":\"https:\\\\/\\\\/www.yelp.com\\\\/biz\\\\/chez-hanafousa-paris?adjust_creative=4fhtQ-nKjeOr6TAmpeXp5Q&utm_campaign=yelp_api_v3&utm_medium=api_v3_business_search&utm_source=4fhtQ-nKjeOr6TAmpeXp5Q\",\"review_count\":35,\"categories\":[{\"alias\":\"japanese\",\"title\":\"Japanese\"}],\"rating\":4.0,\"coordinates\":{\"latitude\":48.85357,\"longitude\":2.33551},\"transactions\":[],\"price\":\"\\\\u20ac\\\\u20ac\\\\u20ac\",\"location\":{\"address1\":\"4 passage Petite Boucherie\",\"address2\":null,\"address3\":null,\"city\":\"Paris\",\"zip_code\":\"75006\",\"country\":\"FR\",\"state\":\"75\",\"display_address\":[\"4 passage Petite Boucherie\",\"75006 Paris\",\"France\"]},\"phone\":\"+33143265029\",\"display_phone\":\"+33 1 43 26 50 29\",\"distance\":1047.116061986}]'"
      ]
     },
     "execution_count": 16,
     "metadata": {},
     "output_type": "execute_result"
    }
   ],
   "source": [
    "businesses.to_json(orient='records')"
   ]
  },
  {
   "cell_type": "code",
   "execution_count": null,
   "id": "a719a832",
   "metadata": {},
   "outputs": [],
   "source": []
  }
 ],
 "metadata": {
  "kernelspec": {
   "display_name": "Python (dojo-env)",
   "language": "python",
   "name": "dojo-env"
  },
  "language_info": {
   "codemirror_mode": {
    "name": "ipython",
    "version": 3
   },
   "file_extension": ".py",
   "mimetype": "text/x-python",
   "name": "python",
   "nbconvert_exporter": "python",
   "pygments_lexer": "ipython3",
   "version": "3.8.13"
  },
  "toc": {
   "base_numbering": 1,
   "nav_menu": {},
   "number_sections": true,
   "sideBar": true,
   "skip_h1_title": false,
   "title_cell": "Table of Contents",
   "title_sidebar": "Contents",
   "toc_cell": false,
   "toc_position": {},
   "toc_section_display": true,
   "toc_window_display": false
  }
 },
 "nbformat": 4,
 "nbformat_minor": 5
}
